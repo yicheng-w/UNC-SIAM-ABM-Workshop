{
 "cells": [
  {
   "cell_type": "markdown",
   "metadata": {},
   "source": [
    "# Money Model\n",
    "\n",
    "In this model, the world-state is the set of agents, and each agent keeps track of their wealth.\n",
    "\n",
    "Within each agent's \"step\" function, if possible, it will pick a random other agent and give it 1 wealth."
   ]
  },
  {
   "cell_type": "code",
   "execution_count": null,
   "metadata": {},
   "outputs": [],
   "source": [
    "# Run this if you have not installed mesa\n",
    "import sys\n",
    "\n",
    "!{sys.executable} -m pip install mesa"
   ]
  },
  {
   "cell_type": "code",
   "execution_count": null,
   "metadata": {},
   "outputs": [],
   "source": [
    "from mesa import Agent, Model\n",
    "from mesa.time import RandomActivation"
   ]
  },
  {
   "cell_type": "code",
   "execution_count": null,
   "metadata": {},
   "outputs": [],
   "source": [
    "class MoneyAgent(Agent):\n",
    "    # This is a python constrcutor, it is what is called when we create an agent\n",
    "    def __init__(self, unique_id, model):\n",
    "        super().__init__(unique_id, model) # this line is necessary when we construct any agent\n",
    "        self.wealth = 1\n",
    "    \n",
    "    def step(self):\n",
    "        if self.wealth == 0:\n",
    "            return\n",
    "        \n",
    "        benefactor = self.random.choice(self.model.schedule.agents)\n",
    "        benefactor.wealth += 1\n",
    "        self.wealth -= 1"
   ]
  },
  {
   "cell_type": "code",
   "execution_count": null,
   "metadata": {},
   "outputs": [],
   "source": [
    "class MoneyModel(Model):\n",
    "    def __init__(self, N):\n",
    "        self.N = N\n",
    "        # the order in which the set of agents execute their step() function can change the result\n",
    "        # RandomActivation means the agents execute in random order\n",
    "        self.schedule = RandomActivation(self)\n",
    "        \n",
    "        for i in range(self.N):\n",
    "            self.schedule.add(MoneyAgent(i, self))\n",
    "            \n",
    "    # the model also has a step function that performs a global timestep\n",
    "    def step(self):\n",
    "        self.schedule.step()"
   ]
  },
  {
   "cell_type": "code",
   "execution_count": null,
   "metadata": {
    "scrolled": false
   },
   "outputs": [],
   "source": [
    "# To run the model, we simply repeatly call step()\n",
    "# We want to periodically log the progress, by periodically printing out interesting data\n",
    "\n",
    "%matplotlib inline\n",
    "import matplotlib.pyplot as plt \n",
    "\n",
    "model = MoneyModel(20)\n",
    "T = 100\n",
    "\n",
    "for i in range(T):\n",
    "    if i % 10 == 0: # print progress every 10th step\n",
    "        print(\"At step \" + str(i))\n",
    "        wealths = [a.wealth for a in model.schedule.agents]\n",
    "        plt.hist(wealths)\n",
    "        plt.show()\n",
    "    model.step()"
   ]
  }
 ],
 "metadata": {
  "kernelspec": {
   "display_name": "Python 3",
   "language": "python",
   "name": "python3"
  },
  "language_info": {
   "codemirror_mode": {
    "name": "ipython",
    "version": 3
   },
   "file_extension": ".py",
   "mimetype": "text/x-python",
   "name": "python",
   "nbconvert_exporter": "python",
   "pygments_lexer": "ipython3",
   "version": "3.7.5"
  }
 },
 "nbformat": 4,
 "nbformat_minor": 2
}
